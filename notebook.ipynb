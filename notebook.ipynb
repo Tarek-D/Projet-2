{
 "cells": [
  {
   "cell_type": "markdown",
   "id": "548bf1b5",
   "metadata": {},
   "source": [
    "# Imports"
   ]
  },
  {
   "cell_type": "code",
   "execution_count": 6,
   "id": "629c691f",
   "metadata": {},
   "outputs": [],
   "source": [
    "import numpy as np\n",
    "\n",
    "import matplotlib.pyplot as plt\n",
    "\n",
    "import pandas as pd\n",
    "\n",
    "from pathlib import Path"
   ]
  },
  {
   "cell_type": "code",
   "execution_count": null,
   "id": "dfa1b716",
   "metadata": {},
   "outputs": [],
   "source": []
  },
  {
   "cell_type": "code",
   "execution_count": 7,
   "id": "ac86e48a",
   "metadata": {},
   "outputs": [],
   "source": [
    "\n",
    "\n",
    "# Dossier contenant tes CSV\n",
    "data_folder = Path(\"Data\")\n",
    "\n",
    "# Boucle sur chaque fichier CSV du dossier\n",
    "for csv_path in data_folder.glob(\"*.csv\"):\n",
    "    # On récupère le nom du fichier sans extension\n",
    "    var_name = f\"{csv_path.stem}_df\"\n",
    "    # On lit le CSV dans un DataFrame\n",
    "    df = pd.read_csv(csv_path)\n",
    "    # On crée dynamiquement la variable dans l'espace global\n",
    "    globals()[var_name] = df"
   ]
  },
  {
   "cell_type": "code",
   "execution_count": 8,
   "id": "2d2c04d8",
   "metadata": {},
   "outputs": [
    {
     "name": "stdout",
     "output_type": "stream",
     "text": [
      "dict_keys(['__name__', '__doc__', '__package__', '__loader__', '__spec__', '__builtin__', '__builtins__', '_ih', '_oh', '_dh', 'In', 'Out', 'get_ipython', 'exit', 'quit', 'open', '_', '__', '___', '__vsc_ipynb_file__', '_i', '_ii', '_iii', '_i1', 'os', 'dataframes', 'data_folder', 'filename', 'filepath', 'df_name', '_i2', '_i3', 'np', '_i4', 'plt', 'pd', '_i5', '_i6', 'Path', '_i7', 'csv_path', 'var_name', 'df', 'EdStatsCountry_df', 'EdStatsCountry-Series_df', 'EdStatsData_df', 'EdStatsFootNote_df', 'EdStatsSeries_df', '_i8'])\n"
     ]
    }
   ],
   "source": [
    "print(globals().keys())  # Affiche les noms des variables créées"
   ]
  }
 ],
 "metadata": {
  "kernelspec": {
   "display_name": "base",
   "language": "python",
   "name": "python3"
  },
  "language_info": {
   "codemirror_mode": {
    "name": "ipython",
    "version": 3
   },
   "file_extension": ".py",
   "mimetype": "text/x-python",
   "name": "python",
   "nbconvert_exporter": "python",
   "pygments_lexer": "ipython3",
   "version": "3.13.5"
  }
 },
 "nbformat": 4,
 "nbformat_minor": 5
}
